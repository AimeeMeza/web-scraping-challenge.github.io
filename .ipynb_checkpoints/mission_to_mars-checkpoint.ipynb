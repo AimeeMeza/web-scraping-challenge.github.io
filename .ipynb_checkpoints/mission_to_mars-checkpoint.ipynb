{
 "cells": [
  {
   "cell_type": "markdown",
   "metadata": {},
   "source": [
    "# Mission to Mars"
   ]
  },
  {
   "cell_type": "code",
   "execution_count": 5,
   "metadata": {},
   "outputs": [],
   "source": [
    "# Import Dependencies\n",
    "import os\n",
    "import pandas as pd\n",
    "from bs4 import BeautifulSoup as bs\n",
    "import requests\n",
    "from splinter import Browser\n",
    "from selenium import webdriver"
   ]
  },
  {
   "cell_type": "code",
   "execution_count": 6,
   "metadata": {},
   "outputs": [],
   "source": [
    "mars_data = {}"
   ]
  },
  {
   "cell_type": "markdown",
   "metadata": {},
   "source": [
    "## News of the day"
   ]
  },
  {
   "cell_type": "code",
   "execution_count": 7,
   "metadata": {},
   "outputs": [],
   "source": [
    "driver_path = 'chromedriver.exe'\n",
    "driver = webdriver.Chrome(executable_path=driver_path)\n",
    "\n",
    "# NASA Mars News Site\n",
    "nasa_mars_url = 'https://mars.nasa.gov/news/'\n",
    "\n",
    "driver.get(nasa_mars_url)"
   ]
  },
  {
   "cell_type": "code",
   "execution_count": 15,
   "metadata": {},
   "outputs": [
    {
     "name": "stdout",
     "output_type": "stream",
     "text": [
      "The Detective Aboard NASA's Perseverance Rover\n",
      "An instrument called SHERLOC will, with the help of its partner WATSON, hunt for signs of ancient life by detecting organic molecules and minerals.\n"
     ]
    }
   ],
   "source": [
    "section = driver.find_element_by_class_name('grid_gallery')\n",
    "element = section.find_element_by_class_name('slide')\n",
    "news_title = element.find_element_by_class_name('content_title').text\n",
    "news_body = element.find_element_by_class_name('article_teaser_body').text\n",
    "\n",
    "mars_data['news_title'] = news_title\n",
    "mars_data['news_body'] = news_body\n",
    "print(news_title)\n",
    "print(news_body)"
   ]
  },
  {
   "cell_type": "markdown",
   "metadata": {},
   "source": [
    "## JPL Mars Featured Image"
   ]
  },
  {
   "cell_type": "code",
   "execution_count": 245,
   "metadata": {},
   "outputs": [],
   "source": [
    "# Browser path\n",
    "executable_path = {'executable_path': 'chromedriver.exe'}\n",
    "\n",
    "# Browser initialization\n",
    "browser = Browser('chrome', **executable_path, headless=False)\n",
    "\n",
    "# JPL featured space image url\n",
    "jpl_url = 'https://www.jpl.nasa.gov/spaceimages/?search=&category=Mars'\n",
    "\n",
    "# Open the url in the browser\n",
    "browser.visit(jpl_url)"
   ]
  },
  {
   "cell_type": "code",
   "execution_count": 246,
   "metadata": {},
   "outputs": [
    {
     "name": "stdout",
     "output_type": "stream",
     "text": [
      "https://www.jpl.nasa.gov/spaceimages/images/largesize/PIA16565_hires.jpg\n"
     ]
    }
   ],
   "source": [
    "# Click on the full image button to see it in medium size\n",
    "try:\n",
    "    browser.click_link_by_partial_text('FULL IMAGE')\n",
    "    \n",
    "except:\n",
    "    print('No featured image')\n",
    "\n",
    "# Click on the more info button to open the image's page\n",
    "try:\n",
    "    browser.click_link_by_partial_text('more info')\n",
    "except:\n",
    "    print('The featured image has no extra information')\n",
    "    \n",
    "# Select the current page's html information\n",
    "html = browser.html\n",
    "\n",
    "# Create a BeautifulSoup object\n",
    "jpl_soup = bs(html, 'lxml')\n",
    "\n",
    "# Look for the article section to search for the large-size image link\n",
    "featured_image = jpl_soup.find('article')\n",
    "\n",
    "# Look for the img section to extract the large-size image link (src)\n",
    "featured_image_src = featured_image.find('img')['src']\n",
    "\n",
    "# Join the JPL NASA link with the image's link to create its full url and store it in a variable\n",
    "featured_image_url = 'https://www.jpl.nasa.gov' + featured_image_src\n",
    "\n",
    "# Print the url to check if it succeeded\n",
    "print(featured_image_url)\n",
    "\n",
    "# Append to mars data\n",
    "mars_data['featured_image'] = featured_image_url\n",
    "\n",
    "# Exit browser\n",
    "browser.quit()"
   ]
  },
  {
   "cell_type": "markdown",
   "metadata": {},
   "source": [
    "## NASA Twitter Mars Weather"
   ]
  },
  {
   "cell_type": "code",
   "execution_count": 247,
   "metadata": {},
   "outputs": [],
   "source": [
    "# Twitter Mars weather\n",
    "twitter_url = 'https://twitter.com/marswxreport?lang=en'\n",
    "\n",
    "# Create a request to retrieve the page\n",
    "twitter_response = requests.get(twitter_url).text\n",
    "\n",
    "# Create a BeautifulSoup object\n",
    "twitter_soup = bs(twitter_response, 'lxml')"
   ]
  },
  {
   "cell_type": "code",
   "execution_count": 248,
   "metadata": {},
   "outputs": [
    {
     "name": "stdout",
     "output_type": "stream",
     "text": [
      "InSight sol 532 (2020-05-26) low -93.1ºC (-135.7ºF) high -1.1ºC (30.0ºF)\n",
      "winds from the SW at 4.9 m/s (10.9 mph) gusting to 17.7 m/s (39.6 mph)\n",
      "pressure at 7.10 hPa\n"
     ]
    }
   ],
   "source": [
    "# Search for the first div (division) tag with class stream\n",
    "twitter_results = twitter_soup.find('div', class_ = 'stream')\n",
    "# print(twitter_results)\n",
    "\n",
    "# Search for the first div tag within the results with class content\n",
    "twitter_content = twitter_results.find_all('div', class_ = 'content')\n",
    "\n",
    "for result in twitter_content:\n",
    "\n",
    "    # Check it's not a retweet\n",
    "    name_check = result.find('span', class_ = 'FullNameGroup')\n",
    "\n",
    "    name = name_check.find('strong', class_ = 'fullname').text\n",
    "\n",
    "\n",
    "    if (name == 'Mars Weather'):\n",
    "        # Search for the first p (paragraph) tag within the content\n",
    "        twitter_paragraph = result.find('p')\n",
    "\n",
    "        # Loop through the tags in the paragraph for the a tag\n",
    "        for atag in twitter_paragraph('a'):\n",
    "            # Delete the items with a tag\n",
    "            atag.decompose()\n",
    "\n",
    "        # Store the text version of the paragraph without a tags in a variable\n",
    "        mars_weather = twitter_paragraph.text\n",
    "\n",
    "        # Print the result to check if it succeeded\n",
    "        print(mars_weather)\n",
    "        \n",
    "        # Append to mars data\n",
    "        mars_data['weather'] = mars_weather\n",
    "        \n",
    "        break"
   ]
  },
  {
   "cell_type": "markdown",
   "metadata": {},
   "source": [
    "## Mars Planet Profile"
   ]
  },
  {
   "cell_type": "code",
   "execution_count": 249,
   "metadata": {},
   "outputs": [],
   "source": [
    "# Mars planet profile\n",
    "profile_url = 'https://space-facts.com/mars/'\n",
    "\n",
    "# Create a request to retrieve the page\n",
    "profile_response = requests.get(profile_url).text\n",
    "\n",
    "# Create a BeautifulSoup object\n",
    "profile_soup = bs(profile_response, 'lxml')"
   ]
  },
  {
   "cell_type": "code",
   "execution_count": 122,
   "metadata": {},
   "outputs": [],
   "source": [
    "# Search for the table containing Mars' profile\n",
    "profile_results = profile_soup.find_all('aside', class_ = 'widget widget_text clearfix')\n",
    "# print(profile_results)\n",
    "\n",
    "for result in profile_results:\n",
    "    table_body = result.find('tbody')\n",
    "    table_header = result.find('h3')"
   ]
  },
  {
   "cell_type": "code",
   "execution_count": 126,
   "metadata": {},
   "outputs": [],
   "source": [
    "column1 = []\n",
    "column2 = []\n",
    "\n",
    "for row in table_body:    \n",
    "    column1.append(row.find('td', class_ = 'column-1').text)\n",
    "    column2.append(row.find('td', class_ = 'column-2').text)"
   ]
  },
  {
   "cell_type": "code",
   "execution_count": 137,
   "metadata": {},
   "outputs": [
    {
     "data": {
      "text/html": [
       "<div>\n",
       "<style scoped>\n",
       "    .dataframe tbody tr th:only-of-type {\n",
       "        vertical-align: middle;\n",
       "    }\n",
       "\n",
       "    .dataframe tbody tr th {\n",
       "        vertical-align: top;\n",
       "    }\n",
       "\n",
       "    .dataframe thead th {\n",
       "        text-align: right;\n",
       "    }\n",
       "</style>\n",
       "<table border=\"1\" class=\"dataframe\">\n",
       "  <thead>\n",
       "    <tr style=\"text-align: right;\">\n",
       "      <th></th>\n",
       "      <th>Data</th>\n",
       "      <th>Values</th>\n",
       "    </tr>\n",
       "  </thead>\n",
       "  <tbody>\n",
       "    <tr>\n",
       "      <td>0</td>\n",
       "      <td>Equatorial Diameter:</td>\n",
       "      <td>6,792 km</td>\n",
       "    </tr>\n",
       "    <tr>\n",
       "      <td>1</td>\n",
       "      <td>Polar Diameter:</td>\n",
       "      <td>6,752 km</td>\n",
       "    </tr>\n",
       "    <tr>\n",
       "      <td>2</td>\n",
       "      <td>Mass:</td>\n",
       "      <td>6.39 × 10^23 kg (0.11 Earths)</td>\n",
       "    </tr>\n",
       "    <tr>\n",
       "      <td>3</td>\n",
       "      <td>Moons:</td>\n",
       "      <td>2 (Phobos &amp; Deimos)</td>\n",
       "    </tr>\n",
       "    <tr>\n",
       "      <td>4</td>\n",
       "      <td>Orbit Distance:</td>\n",
       "      <td>227,943,824 km (1.38 AU)</td>\n",
       "    </tr>\n",
       "    <tr>\n",
       "      <td>5</td>\n",
       "      <td>Orbit Period:</td>\n",
       "      <td>687 days (1.9 years)</td>\n",
       "    </tr>\n",
       "    <tr>\n",
       "      <td>6</td>\n",
       "      <td>Surface Temperature:</td>\n",
       "      <td>-87 to -5 °C</td>\n",
       "    </tr>\n",
       "    <tr>\n",
       "      <td>7</td>\n",
       "      <td>First Record:</td>\n",
       "      <td>2nd millennium BC</td>\n",
       "    </tr>\n",
       "    <tr>\n",
       "      <td>8</td>\n",
       "      <td>Recorded By:</td>\n",
       "      <td>Egyptian astronomers</td>\n",
       "    </tr>\n",
       "  </tbody>\n",
       "</table>\n",
       "</div>"
      ],
      "text/plain": [
       "                    Data                         Values\n",
       "0   Equatorial Diameter:                       6,792 km\n",
       "1        Polar Diameter:                       6,752 km\n",
       "2                  Mass:  6.39 × 10^23 kg (0.11 Earths)\n",
       "3                 Moons:            2 (Phobos & Deimos)\n",
       "4        Orbit Distance:       227,943,824 km (1.38 AU)\n",
       "5          Orbit Period:           687 days (1.9 years)\n",
       "6  Surface Temperature:                    -87 to -5 °C\n",
       "7          First Record:              2nd millennium BC\n",
       "8           Recorded By:           Egyptian astronomers"
      ]
     },
     "execution_count": 137,
     "metadata": {},
     "output_type": "execute_result"
    }
   ],
   "source": [
    "data = pd.DataFrame(list(zip(column1, column2)), columns = ['Data', 'Values'])\n",
    "data"
   ]
  },
  {
   "cell_type": "code",
   "execution_count": 140,
   "metadata": {},
   "outputs": [
    {
     "data": {
      "text/html": [
       "<div>\n",
       "<style scoped>\n",
       "    .dataframe tbody tr th:only-of-type {\n",
       "        vertical-align: middle;\n",
       "    }\n",
       "\n",
       "    .dataframe tbody tr th {\n",
       "        vertical-align: top;\n",
       "    }\n",
       "\n",
       "    .dataframe thead th {\n",
       "        text-align: right;\n",
       "    }\n",
       "</style>\n",
       "<table border=\"1\" class=\"dataframe\">\n",
       "  <thead>\n",
       "    <tr style=\"text-align: center;\">\n",
       "      <th></th>\n",
       "      <th>Values</th>\n",
       "    </tr>\n",
       "    <tr>\n",
       "      <th>Data</th>\n",
       "      <th></th>\n",
       "    </tr>\n",
       "  </thead>\n",
       "  <tbody>\n",
       "    <tr>\n",
       "      <td>Equatorial Diameter:</td>\n",
       "      <td>6,792 km</td>\n",
       "    </tr>\n",
       "    <tr>\n",
       "      <td>Polar Diameter:</td>\n",
       "      <td>6,752 km</td>\n",
       "    </tr>\n",
       "    <tr>\n",
       "      <td>Mass:</td>\n",
       "      <td>6.39 × 10^23 kg (0.11 Earths)</td>\n",
       "    </tr>\n",
       "    <tr>\n",
       "      <td>Moons:</td>\n",
       "      <td>2 (Phobos &amp; Deimos)</td>\n",
       "    </tr>\n",
       "    <tr>\n",
       "      <td>Orbit Distance:</td>\n",
       "      <td>227,943,824 km (1.38 AU)</td>\n",
       "    </tr>\n",
       "    <tr>\n",
       "      <td>Orbit Period:</td>\n",
       "      <td>687 days (1.9 years)</td>\n",
       "    </tr>\n",
       "    <tr>\n",
       "      <td>Surface Temperature:</td>\n",
       "      <td>-87 to -5 °C</td>\n",
       "    </tr>\n",
       "    <tr>\n",
       "      <td>First Record:</td>\n",
       "      <td>2nd millennium BC</td>\n",
       "    </tr>\n",
       "    <tr>\n",
       "      <td>Recorded By:</td>\n",
       "      <td>Egyptian astronomers</td>\n",
       "    </tr>\n",
       "  </tbody>\n",
       "</table>\n",
       "</div>"
      ],
      "text/plain": [
       "                                  Values            \n",
       "Data                                                \n",
       "Equatorial Diameter:                        6,792 km\n",
       "Polar Diameter:                             6,752 km\n",
       "Mass:                  6.39 × 10^23 kg (0.11 Earths)\n",
       "Moons:                           2 (Phobos & Deimos)\n",
       "Orbit Distance:             227,943,824 km (1.38 AU)\n",
       "Orbit Period:                   687 days (1.9 years)\n",
       "Surface Temperature:                    -87 to -5 °C\n",
       "First Record:                      2nd millennium BC\n",
       "Recorded By:                    Egyptian astronomers"
      ]
     },
     "execution_count": 140,
     "metadata": {},
     "output_type": "execute_result"
    }
   ],
   "source": [
    "data = data.set_index('Data')\n",
    "data"
   ]
  },
  {
   "cell_type": "code",
   "execution_count": 142,
   "metadata": {},
   "outputs": [],
   "source": [
    "pd.set_option('colheader_justify', 'center')   # FOR TABLE <th>\n",
    "\n",
    "html_string = '''\n",
    "<html>\n",
    "  <head><title>HTML Pandas Dataframe with CSS</title></head>\n",
    "  <link rel=\"stylesheet\" type=\"text/css\" href=\"df_style.css\"/>\n",
    "  <body>\n",
    "    {table}\n",
    "  </body>\n",
    "</html>.\n",
    "'''\n",
    "\n",
    "# OUTPUT AN HTML FILE\n",
    "with open('data.html', 'w') as f:\n",
    "    f.write(html_string.format(table=data.to_html(classes='mystyle')))"
   ]
  },
  {
   "cell_type": "markdown",
   "metadata": {},
   "source": [
    "## Mars Hemispheres Images"
   ]
  },
  {
   "cell_type": "code",
   "execution_count": 250,
   "metadata": {},
   "outputs": [],
   "source": [
    "# Browser path\n",
    "executable_path = {'executable_path': 'chromedriver.exe'}\n",
    "\n",
    "# Browser initialization\n",
    "browser = Browser('chrome', **executable_path, headless=False)\n",
    "\n",
    "# Mars planet profile\n",
    "hemis_url = 'https://astrogeology.usgs.gov/search/results?q=hemisphere+enhanced&k1=target&v1=Mars'\n",
    "\n",
    "# Open the url in the browser\n",
    "browser.visit(hemis_url)\n",
    "\n",
    "# Select the main page's html information\n",
    "html = browser.html\n",
    "\n",
    "# Create a BeautifulSoup object\n",
    "main_soup = bs(html, 'lxml')"
   ]
  },
  {
   "cell_type": "code",
   "execution_count": 261,
   "metadata": {},
   "outputs": [
    {
     "data": {
      "text/plain": [
       "[{'title': 'Cerberus Hemisphere Enhanced',\n",
       "  'image_url': 'https://astrogeology.usgs.gov/cache/images/f5e372a36edfa389625da6d0cc25d905_cerberus_enhanced.tif_full.jpg'},\n",
       " {'title': 'Schiaparelli Hemisphere Enhanced',\n",
       "  'image_url': 'https://astrogeology.usgs.gov/cache/images/3778f7b43bbbc89d6e3cfabb3613ba93_schiaparelli_enhanced.tif_full.jpg'},\n",
       " {'title': 'Syrtis Major Hemisphere Enhanced',\n",
       "  'image_url': 'https://astrogeology.usgs.gov/cache/images/555e6403a6ddd7ba16ddb0e471cadcf7_syrtis_major_enhanced.tif_full.jpg'},\n",
       " {'title': 'Valles Marineris Hemisphere Enhanced',\n",
       "  'image_url': 'https://astrogeology.usgs.gov/cache/images/b3c7c6c9138f57b4756be9b9c43e3a48_valles_marineris_enhanced.tif_full.jpg'}]"
      ]
     },
     "execution_count": 261,
     "metadata": {},
     "output_type": "execute_result"
    }
   ],
   "source": [
    "# Select each image's link\n",
    "div = main_soup.find('div', class_ = 'collapsible results')\n",
    "# print(div)\n",
    "\n",
    "items = div.find_all('div', class_ = 'item')\n",
    "\n",
    "hemispheres = []\n",
    "count = 0\n",
    "\n",
    "for item in items:\n",
    "    count += 1\n",
    "    # Store the link in a variable for further reference\n",
    "    href = item.find('a')['href']\n",
    "    link = 'https://astrogeology.usgs.gov' + href\n",
    "#     print(link)\n",
    "    \n",
    "    # Click on the link to open the image's page\n",
    "    try:\n",
    "        browser.visit(link)\n",
    "\n",
    "    except:\n",
    "        print('No')\n",
    "    \n",
    "    html = browser.html\n",
    "    hemis_soup = bs(html, 'lxml')\n",
    "    \n",
    "    pre_title = hemis_soup.find('div', class_ = 'content')\n",
    "    title = pre_title.find('h2').text\n",
    "#     print(title)\n",
    "    pre_src = hemis_soup.find('div', class_ = 'wide-image-wrapper')\n",
    "    src = pre_src.find('img', class_ = 'wide-image')['src']\n",
    "#     print(src)\n",
    "    image_url = 'https://astrogeology.usgs.gov' + src\n",
    "        \n",
    "    hemispheres.append({'title': title, 'image_url': image_url})\n",
    "    \n",
    "    # Append to mars data\n",
    "    mars_data[f'title_{count}'] = title\n",
    "        \n",
    "    mars_data[f'image_url_{count}'] = image_url\n",
    "\n",
    "hemispheres"
   ]
  },
  {
   "cell_type": "code",
   "execution_count": 172,
   "metadata": {},
   "outputs": [
    {
     "data": {
      "text/plain": [
       "[{'title': 'Cerberus Hemisphere Enhanced',\n",
       "  'url': 'https://astrogeology.usgs.gov/search/map/Mars/Viking/cerberus_enhanced'},\n",
       " {'title': 'Schiaparelli Hemisphere Enhanced',\n",
       "  'url': 'https://astrogeology.usgs.gov/search/map/Mars/Viking/schiaparelli_enhanced'},\n",
       " {'title': 'Syrtis Major Hemisphere Enhanced',\n",
       "  'url': 'https://astrogeology.usgs.gov/search/map/Mars/Viking/syrtis_major_enhanced'},\n",
       " {'title': 'Valles Marineris Hemisphere Enhanced',\n",
       "  'url': 'https://astrogeology.usgs.gov/search/map/Mars/Viking/valles_marineris_enhanced'}]"
      ]
     },
     "execution_count": 172,
     "metadata": {},
     "output_type": "execute_result"
    }
   ],
   "source": [
    "hemispheres"
   ]
  },
  {
   "cell_type": "code",
   "execution_count": 263,
   "metadata": {},
   "outputs": [
    {
     "data": {
      "text/plain": [
       "{'featured_image': 'https://www.jpl.nasa.gov/spaceimages/images/largesize/PIA16565_hires.jpg',\n",
       " 'weather': 'InSight sol 532 (2020-05-26) low -93.1ºC (-135.7ºF) high -1.1ºC (30.0ºF)\\nwinds from the SW at 4.9 m/s (10.9 mph) gusting to 17.7 m/s (39.6 mph)\\npressure at 7.10 hPa',\n",
       " 'image_url_1': 'https://astrogeology.usgs.gov/cache/images/f5e372a36edfa389625da6d0cc25d905_cerberus_enhanced.tif_full.jpg',\n",
       " 'image_url_2': 'https://astrogeology.usgs.gov/cache/images/3778f7b43bbbc89d6e3cfabb3613ba93_schiaparelli_enhanced.tif_full.jpg',\n",
       " 'image_url_3': 'https://astrogeology.usgs.gov/cache/images/555e6403a6ddd7ba16ddb0e471cadcf7_syrtis_major_enhanced.tif_full.jpg',\n",
       " 'image_url_4': 'https://astrogeology.usgs.gov/cache/images/b3c7c6c9138f57b4756be9b9c43e3a48_valles_marineris_enhanced.tif_full.jpg',\n",
       " 'title_1': 'Cerberus Hemisphere Enhanced',\n",
       " 'title_2': 'Schiaparelli Hemisphere Enhanced',\n",
       " 'title_3': 'Syrtis Major Hemisphere Enhanced',\n",
       " 'title_4': 'Valles Marineris Hemisphere Enhanced'}"
      ]
     },
     "execution_count": 263,
     "metadata": {},
     "output_type": "execute_result"
    }
   ],
   "source": [
    "mars_data"
   ]
  },
  {
   "cell_type": "code",
   "execution_count": 236,
   "metadata": {},
   "outputs": [
    {
     "data": {
      "text/plain": [
       "'https://www.jpl.nasa.gov/spaceimages/images/largesize/PIA14317_hires.jpg'"
      ]
     },
     "execution_count": 236,
     "metadata": {},
     "output_type": "execute_result"
    }
   ],
   "source": [
    "mars_data[0]['featured_image']"
   ]
  },
  {
   "cell_type": "code",
   "execution_count": 238,
   "metadata": {},
   "outputs": [
    {
     "data": {
      "text/plain": [
       "{'title': 'Cerberus Hemisphere Enhanced',\n",
       " 'image_url': 'https://astrogeology.usgs.gov/cache/images/f5e372a36edfa389625da6d0cc25d905_cerberus_enhanced.tif_full.jpg'}"
      ]
     },
     "execution_count": 238,
     "metadata": {},
     "output_type": "execute_result"
    }
   ],
   "source": [
    "mars_data[2]"
   ]
  },
  {
   "cell_type": "code",
   "execution_count": 239,
   "metadata": {},
   "outputs": [
    {
     "ename": "AttributeError",
     "evalue": "'list' object has no attribute 'title'",
     "output_type": "error",
     "traceback": [
      "\u001b[1;31m---------------------------------------------------------------------------\u001b[0m",
      "\u001b[1;31mAttributeError\u001b[0m                            Traceback (most recent call last)",
      "\u001b[1;32m<ipython-input-239-4d69e5236648>\u001b[0m in \u001b[0;36m<module>\u001b[1;34m\u001b[0m\n\u001b[1;32m----> 1\u001b[1;33m \u001b[0mmars_data\u001b[0m\u001b[1;33m.\u001b[0m\u001b[0mtitle\u001b[0m\u001b[1;33m\u001b[0m\u001b[1;33m\u001b[0m\u001b[0m\n\u001b[0m",
      "\u001b[1;31mAttributeError\u001b[0m: 'list' object has no attribute 'title'"
     ]
    }
   ],
   "source": [
    "mars_data.title"
   ]
  },
  {
   "cell_type": "code",
   "execution_count": null,
   "metadata": {},
   "outputs": [],
   "source": []
  }
 ],
 "metadata": {
  "kernelspec": {
   "display_name": "Python 3",
   "language": "python",
   "name": "python3"
  },
  "language_info": {
   "codemirror_mode": {
    "name": "ipython",
    "version": 3
   },
   "file_extension": ".py",
   "mimetype": "text/x-python",
   "name": "python",
   "nbconvert_exporter": "python",
   "pygments_lexer": "ipython3",
   "version": "3.7.4"
  }
 },
 "nbformat": 4,
 "nbformat_minor": 2
}
